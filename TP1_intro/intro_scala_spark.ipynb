{
 "cells": [
  {
   "cell_type": "code",
   "execution_count": 2,
   "metadata": {},
   "outputs": [
    {
     "data": {
      "text/plain": [
       "texteLicence: org.apache.spark.sql.Dataset[String] = [value: string]\n"
      ]
     },
     "execution_count": 2,
     "metadata": {},
     "output_type": "execute_result"
    }
   ],
   "source": [
    "val texteLicence = spark.read.textFile(\"file:///home/hadoop/msata/cnam_RCP216/data_mining/TP1_intro/LICENSE\")"
   ]
  },
  {
   "cell_type": "code",
   "execution_count": 4,
   "metadata": {},
   "outputs": [
    {
     "data": {
      "text/plain": [
       "res1: Long = 517\n"
      ]
     },
     "execution_count": 4,
     "metadata": {},
     "output_type": "execute_result"
    }
   ],
   "source": [
    "texteLicence.count()"
   ]
  },
  {
   "cell_type": "code",
   "execution_count": 5,
   "metadata": {},
   "outputs": [
    {
     "data": {
      "text/plain": [
       "res2: Array[String] = Array(\"                                 Apache License\", \"                           Version 2.0, January 2004\", \"                        http://www.apache.org/licenses/\", \"\", \"   TERMS AND CONDITIONS FOR USE, REPRODUCTION, AND DISTRIBUTION\")\n"
      ]
     },
     "execution_count": 5,
     "metadata": {},
     "output_type": "execute_result"
    }
   ],
   "source": [
    "texteLicence.take(5)"
   ]
  },
  {
   "cell_type": "code",
   "execution_count": 8,
   "metadata": {},
   "outputs": [
    {
     "data": {
      "text/plain": [
       "res5: Array[String] = Array(\"                                 Apache License\", \"                           Version 2.0, January 2004\", \"                        http://www.apache.org/licenses/\", \"\", \"   TERMS AND CONDITIONS FOR USE, REPRODUCTION, AND DISTRIBUTION\", \"\", \"   1. Definitions.\", \"\", \"      \"License\" shall mean the terms and conditions for use, reproduction,\", \"      and distribution as defined by Sections 1 through 9 of this document.\", \"\", \"      \"Licensor\" shall mean the copyright owner or entity authorized by\", \"      the copyright owner that is granting the License.\", \"\", \"      \"Legal Entity\" shall mean the union of the acting entity and all\", \"      other entities that control, are controlled by, or are under common\", \"      control with that entity. For the purposes of..."
      ]
     },
     "execution_count": 8,
     "metadata": {},
     "output_type": "execute_result"
    }
   ],
   "source": [
    "texteLicence.collect()"
   ]
  },
  {
   "cell_type": "code",
   "execution_count": 9,
   "metadata": {},
   "outputs": [
    {
     "data": {
      "text/plain": [
       "res6: Array[String] = Array(\"                                 Apache License\")\n"
      ]
     },
     "execution_count": 9,
     "metadata": {},
     "output_type": "execute_result"
    }
   ],
   "source": [
    "texteLicence.take(1)"
   ]
  },
  {
   "cell_type": "code",
   "execution_count": 10,
   "metadata": {},
   "outputs": [
    {
     "data": {
      "text/plain": [
       "linesWithCopyright: org.apache.spark.sql.Dataset[String] = [value: string]\n",
       "res7: Array[String] = Array(\"   2. Grant of Copyright License. Subject to the terms and conditions of\", \"   Copyright [yyyy] [name of copyright owner]\")\n"
      ]
     },
     "execution_count": 10,
     "metadata": {},
     "output_type": "execute_result"
    }
   ],
   "source": [
    "val linesWithCopyright = texteLicence.filter(line => line.contains(\"Copyright\"))\n",
    "linesWithCopyright.take(2)"
   ]
  },
  {
   "cell_type": "code",
   "execution_count": 11,
   "metadata": {},
   "outputs": [
    {
     "data": {
      "text/plain": [
       "linesLength: org.apache.spark.sql.Dataset[Int] = [value: int]\n",
       "res8: Array[Int] = Array(47, 52, 55, 0, 63, 0)\n"
      ]
     },
     "execution_count": 11,
     "metadata": {},
     "output_type": "execute_result"
    }
   ],
   "source": [
    "val linesLength = texteLicence.map(l => l.length)\n",
    "linesLength.take(6)"
   ]
  },
  {
   "cell_type": "code",
   "execution_count": 12,
   "metadata": {},
   "outputs": [
    {
     "data": {
      "text/plain": [
       "nbrLinesCopyright: Long = 2\n"
      ]
     },
     "execution_count": 12,
     "metadata": {},
     "output_type": "execute_result"
    }
   ],
   "source": [
    "val nbrLinesCopyright = linesWithCopyright.count()"
   ]
  },
  {
   "cell_type": "code",
   "execution_count": 13,
   "metadata": {},
   "outputs": [
    {
     "data": {
      "text/plain": [
       "res9: Int = 20797\n"
      ]
     },
     "execution_count": 13,
     "metadata": {},
     "output_type": "execute_result"
    }
   ],
   "source": [
    "linesLength.reduce((a, b) => a+b)"
   ]
  },
  {
   "cell_type": "code",
   "execution_count": 21,
   "metadata": {},
   "outputs": [
    {
     "data": {
      "text/plain": [
       "wordTexteLicence: org.apache.spark.sql.Dataset[String] = [value: string]\n",
       "res14: wordTexteLicence.type = [value: string]\n"
      ]
     },
     "execution_count": 21,
     "metadata": {},
     "output_type": "execute_result"
    }
   ],
   "source": [
    "/*Get array of words*/\n",
    "val wordTexteLicence = texteLicence.flatMap(line => line.split(\" +\"))\n",
    "wordTexteLicence.persist()"
   ]
  },
  {
   "cell_type": "code",
   "execution_count": 31,
   "metadata": {
    "scrolled": true
   },
   "outputs": [
    {
     "name": "stdout",
     "output_type": "stream",
     "text": [
      "+--------------------+--------+\n",
      "|               value|count(1)|\n",
      "+--------------------+--------+\n",
      "|               those|       4|\n",
      "|            brackets|       1|\n",
      "|                some|       1|\n",
      "|org.eclipse.jetty...|       1|\n",
      "|org.slf4j:jcl-ove...|       1|\n",
      "|      org.tukaani:xz|       1|\n",
      "|           \"License\"|       1|\n",
      "|         authorship.|       1|\n",
      "|             include|       3|\n",
      "|            thereof.|       1|\n",
      "|            received|       1|\n",
      "|           construed|       1|\n",
      "|org.scala-lang:sc...|       1|\n",
      "|                 1.0|       2|\n",
      "|          Derivative|      17|\n",
      "|         \"submitted\"|       1|\n",
      "|              marks,|       1|\n",
      "|    MERCHANTABILITY,|       1|\n",
      "|           character|       1|\n",
      "|org.apache.hadoop...|       1|\n",
      "+--------------------+--------+\n",
      "only showing top 20 rows\n",
      "\n"
     ]
    },
    {
     "data": {
      "text/plain": [
       "wordOcurr: org.apache.spark.sql.Dataset[(String, Long)] = [value: string, count(1): bigint]\n"
      ]
     },
     "execution_count": 31,
     "metadata": {},
     "output_type": "execute_result"
    }
   ],
   "source": [
    "val wordOcurr = texteLicence.flatMap(line => line.split(\" +\")).groupByKey(identity).count()\n",
    "wordOcurr.show()"
   ]
  },
  {
   "cell_type": "code",
   "execution_count": 34,
   "metadata": {
    "scrolled": true
   },
   "outputs": [
    {
     "name": "stdout",
     "output_type": "stream",
     "text": [
      "+-------------+------------------+\n",
      "|max(count(1))|     avg(count(1))|\n",
      "+-------------+------------------+\n",
      "|          236|2.4171240395170144|\n",
      "+-------------+------------------+\n",
      "\n"
     ]
    },
    {
     "data": {
      "text/plain": [
       "resMM: org.apache.spark.sql.DataFrame = [max(count(1)): bigint, avg(count(1)): double]\n"
      ]
     },
     "execution_count": 34,
     "metadata": {},
     "output_type": "execute_result"
    }
   ],
   "source": [
    "val resMM = wordOcurr.agg(max(\"count(1)\"), mean(\"count(1)\") )\n",
    "resMM.show()"
   ]
  },
  {
   "cell_type": "code",
   "execution_count": 28,
   "metadata": {},
   "outputs": [
    {
     "name": "stdout",
     "output_type": "stream",
     "text": [
      "+-------+\n",
      "|  value|\n",
      "+-------+\n",
      "|    the|\n",
      "|  terms|\n",
      "|   use,|\n",
      "|through|\n",
      "|   this|\n",
      "|    the|\n",
      "|    the|\n",
      "|   that|\n",
      "|    the|\n",
      "|    the|\n",
      "|  union|\n",
      "|    the|\n",
      "|   that|\n",
      "|  under|\n",
      "|   with|\n",
      "|   that|\n",
      "|    the|\n",
      "|   this|\n",
      "|    the|\n",
      "|     to|\n",
      "+-------+\n",
      "only showing top 20 rows\n",
      "\n"
     ]
    },
    {
     "data": {
      "text/plain": [
       "res: org.apache.spark.sql.DataFrame = [value: string]\n"
      ]
     },
     "execution_count": 28,
     "metadata": {},
     "output_type": "execute_result"
    }
   ],
   "source": [
    "wordTexteLicence.createOrReplaceTempView(\"words\")\n",
    "val res = spark.sql(\"SELECT value FROM words WHERE value > 't'\")\n",
    "res.show()"
   ]
  },
  {
   "cell_type": "code",
   "execution_count": null,
   "metadata": {},
   "outputs": [],
   "source": []
  }
 ],
 "metadata": {
  "kernelspec": {
   "display_name": "spylon-kernel",
   "language": "scala",
   "name": "spylon-kernel"
  },
  "language_info": {
   "codemirror_mode": "text/x-scala",
   "file_extension": ".scala",
   "help_links": [
    {
     "text": "MetaKernel Magics",
     "url": "https://metakernel.readthedocs.io/en/latest/source/README.html"
    }
   ],
   "mimetype": "text/x-scala",
   "name": "scala",
   "pygments_lexer": "scala",
   "version": "0.4.1"
  }
 },
 "nbformat": 4,
 "nbformat_minor": 2
}
